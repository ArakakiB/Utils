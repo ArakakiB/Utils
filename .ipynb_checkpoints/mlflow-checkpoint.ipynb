{
 "cells": [
  {
   "cell_type": "code",
   "execution_count": 6,
   "id": "884f3a15-c9ba-40da-bcf7-119c4fe98b13",
   "metadata": {},
   "outputs": [],
   "source": [
    "# !pip install mlflow\n",
    "# mlflow server  # no cmd para abrir a gui | OU mlflow ui | OU http://127.0.0.1:5000/ | http://localhost:5000/#/"
   ]
  },
  {
   "cell_type": "code",
   "execution_count": 3,
   "id": "f1f57c28-c50c-4f40-842b-7cdf02dc4ed4",
   "metadata": {},
   "outputs": [],
   "source": [
    "import sys\n",
    "import os\n",
    "import mlflow"
   ]
  },
  {
   "cell_type": "code",
   "execution_count": null,
   "id": "cba1f301-7951-4330-8085-786152f35268",
   "metadata": {},
   "outputs": [],
   "source": [
    "logging.basicConfig(level)"
   ]
  }
 ],
 "metadata": {
  "kernelspec": {
   "display_name": "Python 3",
   "language": "python",
   "name": "python3"
  },
  "language_info": {
   "codemirror_mode": {
    "name": "ipython",
    "version": 3
   },
   "file_extension": ".py",
   "mimetype": "text/x-python",
   "name": "python",
   "nbconvert_exporter": "python",
   "pygments_lexer": "ipython3",
   "version": "3.8.5"
  }
 },
 "nbformat": 4,
 "nbformat_minor": 5
}
