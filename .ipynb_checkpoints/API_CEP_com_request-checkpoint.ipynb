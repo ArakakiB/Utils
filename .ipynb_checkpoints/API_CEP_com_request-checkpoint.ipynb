{
 "cells": [
  {
   "cell_type": "markdown",
   "metadata": {},
   "source": [
    "Documentação: https://requests.readthedocs.io/en/latest/"
   ]
  },
  {
   "cell_type": "code",
   "execution_count": 1,
   "metadata": {},
   "outputs": [],
   "source": [
    "import requests"
   ]
  },
  {
   "cell_type": "code",
   "execution_count": 2,
   "metadata": {},
   "outputs": [
    {
     "name": "stdout",
     "output_type": "stream",
     "text": [
      "Digite o CEP para a consulta: 03821020\n"
     ]
    }
   ],
   "source": [
    "cep_input = input('Digite o CEP para a consulta: ')"
   ]
  },
  {
   "cell_type": "code",
   "execution_count": 3,
   "metadata": {},
   "outputs": [],
   "source": [
    "if len(cep_input) != 8:\n",
    "    print('Quantidade de dígitos inválida!')\n",
    "    exit()"
   ]
  },
  {
   "cell_type": "code",
   "execution_count": 4,
   "metadata": {},
   "outputs": [],
   "source": [
    "request = requests.get('https://viacep.com.br/ws/{}/json/'.format(cep_input))"
   ]
  },
  {
   "cell_type": "code",
   "execution_count": 5,
   "metadata": {},
   "outputs": [],
   "source": [
    "address_data = request.json()"
   ]
  },
  {
   "cell_type": "code",
   "execution_count": 6,
   "metadata": {},
   "outputs": [
    {
     "data": {
      "text/plain": [
       "{'cep': '03821-020',\n",
       " 'logradouro': 'Rua Colônia Leopoldina',\n",
       " 'complemento': '',\n",
       " 'bairro': 'Vila Sílvia',\n",
       " 'localidade': 'São Paulo',\n",
       " 'uf': 'SP',\n",
       " 'unidade': '',\n",
       " 'ibge': '3550308',\n",
       " 'gia': '1004'}"
      ]
     },
     "execution_count": 6,
     "metadata": {},
     "output_type": "execute_result"
    }
   ],
   "source": [
    "address_data"
   ]
  },
  {
   "cell_type": "code",
   "execution_count": 7,
   "metadata": {},
   "outputs": [
    {
     "name": "stdout",
     "output_type": "stream",
     "text": [
      "==> CEP ENCONTRADO <==\n",
      "CEP: 03821-020\n",
      "Logradouro: Rua Colônia Leopoldina\n",
      "Complemento: \n",
      "Bairro: Vila Sílvia\n",
      "Cidade: São Paulo\n",
      "Estado: SP\n"
     ]
    }
   ],
   "source": [
    "if 'erro' not in address_data:\n",
    "    print('==> CEP ENCONTRADO <==')\n",
    "    print('CEP: {}'.format(address_data['cep']))\n",
    "    print('Logradouro: {}'.format(address_data['logradouro']))\n",
    "    print('Complemento: {}'.format(address_data['complemento']))\n",
    "    print('Bairro: {}'.format(address_data['bairro']))\n",
    "    print('Cidade: {}'.format(address_data['localidade']))\n",
    "    print('Estado: {}'.format(address_data['uf']))\n",
    "else:\n",
    "    print('{}: CEP inválido.'.format(cep_input))"
   ]
  },
  {
   "cell_type": "code",
   "execution_count": 8,
   "metadata": {},
   "outputs": [
    {
     "name": "stdout",
     "output_type": "stream",
     "text": [
      "---------------------------------\n",
      "Deseja realizar uma nova consulta ?\n",
      "1. Sim\n",
      "2. Sair\n",
      "2\n",
      "Saindo...\n"
     ]
    }
   ],
   "source": [
    "print('---------------------------------')\n",
    "option = int(input('Deseja realizar uma nova consulta ?\\n1. Sim\\n2. Sair\\n'))\n",
    "if option == 1:\n",
    "    print('Pra começar dnv deveriamos ter criado uma funcao para retorno heeh')\n",
    "else:\n",
    "    print('Saindo...')"
   ]
  },
  {
   "cell_type": "code",
   "execution_count": null,
   "metadata": {},
   "outputs": [],
   "source": []
  }
 ],
 "metadata": {
  "kernelspec": {
   "display_name": "Python 3",
   "language": "python",
   "name": "python3"
  },
  "language_info": {
   "codemirror_mode": {
    "name": "ipython",
    "version": 3
   },
   "file_extension": ".py",
   "mimetype": "text/x-python",
   "name": "python",
   "nbconvert_exporter": "python",
   "pygments_lexer": "ipython3",
   "version": "3.6.9"
  }
 },
 "nbformat": 4,
 "nbformat_minor": 2
}
